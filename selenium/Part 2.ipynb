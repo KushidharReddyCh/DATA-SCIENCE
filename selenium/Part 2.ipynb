{
 "cells": [
  {
   "cell_type": "code",
   "execution_count": 1,
   "id": "526262d8",
   "metadata": {},
   "outputs": [],
   "source": [
    "# implict wait"
   ]
  },
  {
   "cell_type": "code",
   "execution_count": 2,
   "id": "2e4d3494",
   "metadata": {},
   "outputs": [],
   "source": [
    "from selenium import webdriver\n",
    "from webdriver_manager.chrome import ChromeDriverManager"
   ]
  },
  {
   "cell_type": "code",
   "execution_count": 3,
   "id": "c6239a97",
   "metadata": {},
   "outputs": [
    {
     "name": "stderr",
     "output_type": "stream",
     "text": [
      "\n",
      "\n",
      "====== WebDriver manager ======\n",
      "Current google-chrome version is 96.0.4664\n",
      "Get LATEST chromedriver version for 96.0.4664 google-chrome\n",
      "Driver [/Users/kushidhar/.wdm/drivers/chromedriver/mac64/96.0.4664.45/chromedriver] found in cache\n",
      "<ipython-input-3-57cf694b4967>:2: DeprecationWarning: executable_path has been deprecated, please pass in a Service object\n",
      "  driver = webdriver.Chrome(ChromeDriverManager().install())\n"
     ]
    }
   ],
   "source": [
    "# initiate a webdriver session\n",
    "driver = webdriver.Chrome(ChromeDriverManager().install())"
   ]
  },
  {
   "cell_type": "code",
   "execution_count": 11,
   "id": "21df9b36",
   "metadata": {},
   "outputs": [],
   "source": [
    "driver.get('https://www.google.com')"
   ]
  },
  {
   "cell_type": "code",
   "execution_count": 12,
   "id": "acb4ff45",
   "metadata": {},
   "outputs": [
    {
     "name": "stderr",
     "output_type": "stream",
     "text": [
      "<ipython-input-12-a1400d4e9c08>:1: DeprecationWarning: find_element_by_* commands are deprecated. Please use find_element() instead\n",
      "  text_box = driver.find_element_by_xpath('/html/body/div[1]/div[3]/form/div[1]/div[1]/div[1]/div[2]/div[2]/input')\n"
     ]
    }
   ],
   "source": [
    "text_box = driver.find_element_by_xpath('/html/body/div[1]/div[3]/form/div[1]/div[1]/div[1]/div[2]/div[2]/input')"
   ]
  },
  {
   "cell_type": "code",
   "execution_count": 13,
   "id": "a25a89de",
   "metadata": {},
   "outputs": [],
   "source": [
    "text_box.send_keys('selenium')"
   ]
  },
  {
   "cell_type": "code",
   "execution_count": 14,
   "id": "ac5343ad",
   "metadata": {},
   "outputs": [],
   "source": [
    "text_box.send_keys('\\n')"
   ]
  },
  {
   "cell_type": "code",
   "execution_count": 16,
   "id": "66f7c363",
   "metadata": {},
   "outputs": [],
   "source": [
    "# text_box.clear()"
   ]
  },
  {
   "cell_type": "code",
   "execution_count": 26,
   "id": "ebed9ac9",
   "metadata": {},
   "outputs": [],
   "source": [
    "sent = \"\"\"abcd\n",
    "\n",
    "defs\"\"\""
   ]
  },
  {
   "cell_type": "code",
   "execution_count": 27,
   "id": "99264b64",
   "metadata": {},
   "outputs": [
    {
     "data": {
      "text/plain": [
       "10"
      ]
     },
     "execution_count": 27,
     "metadata": {},
     "output_type": "execute_result"
    }
   ],
   "source": [
    "len(sent)"
   ]
  },
  {
   "cell_type": "code",
   "execution_count": 28,
   "id": "8078e470",
   "metadata": {},
   "outputs": [],
   "source": [
    "driver.implicitly_wait(12)"
   ]
  },
  {
   "cell_type": "code",
   "execution_count": 32,
   "id": "a2a1ecac",
   "metadata": {},
   "outputs": [],
   "source": [
    "from selenium.webdriver.support.ui import WebDriverWait\n",
    "from selenium.webdriver.support import expected_conditions as EC\n",
    "from selenium.webdriver.common.by import By"
   ]
  },
  {
   "cell_type": "code",
   "execution_count": 30,
   "id": "c8d4ab3d",
   "metadata": {},
   "outputs": [
    {
     "name": "stderr",
     "output_type": "stream",
     "text": [
      "\n",
      "\n",
      "====== WebDriver manager ======\n",
      "Current google-chrome version is 96.0.4664\n",
      "Get LATEST chromedriver version for 96.0.4664 google-chrome\n",
      "Driver [/Users/kushidhar/.wdm/drivers/chromedriver/mac64/96.0.4664.45/chromedriver] found in cache\n",
      "<ipython-input-30-57cf694b4967>:2: DeprecationWarning: executable_path has been deprecated, please pass in a Service object\n",
      "  driver = webdriver.Chrome(ChromeDriverManager().install())\n"
     ]
    }
   ],
   "source": [
    "# initiate a webdriver session\n",
    "driver = webdriver.Chrome(ChromeDriverManager().install())"
   ]
  },
  {
   "cell_type": "code",
   "execution_count": 33,
   "id": "1f67db7b",
   "metadata": {},
   "outputs": [],
   "source": [
    "# explict wait\n",
    "wait = WebDriverWait(driver,10)"
   ]
  },
  {
   "cell_type": "code",
   "execution_count": 35,
   "id": "d8e5c8dd",
   "metadata": {},
   "outputs": [],
   "source": [
    "elem = wait.until(EC.presence_of_element_located((By.XPATH,'path')))"
   ]
  },
  {
   "cell_type": "code",
   "execution_count": null,
   "id": "c136c672",
   "metadata": {},
   "outputs": [],
   "source": []
  }
 ],
 "metadata": {
  "kernelspec": {
   "display_name": "Python 3",
   "language": "python",
   "name": "python3"
  },
  "language_info": {
   "codemirror_mode": {
    "name": "ipython",
    "version": 3
   },
   "file_extension": ".py",
   "mimetype": "text/x-python",
   "name": "python",
   "nbconvert_exporter": "python",
   "pygments_lexer": "ipython3",
   "version": "3.8.8"
  }
 },
 "nbformat": 4,
 "nbformat_minor": 5
}
