{
 "cells": [
  {
   "cell_type": "code",
   "execution_count": 74,
   "id": "895b8ea1",
   "metadata": {},
   "outputs": [],
   "source": [
    "import warnings\n",
    "warnings.filterwarnings('ignore')"
   ]
  },
  {
   "cell_type": "code",
   "execution_count": 4,
   "id": "104c9eee",
   "metadata": {},
   "outputs": [],
   "source": [
    "driver.get('http://books.toscrape.com')"
   ]
  },
  {
   "cell_type": "code",
   "execution_count": 10,
   "id": "4db675e6",
   "metadata": {},
   "outputs": [],
   "source": [
    "ans = driver.find_element_by_xpath('/html/head/title')"
   ]
  },
  {
   "cell_type": "code",
   "execution_count": 12,
   "id": "3233ddff",
   "metadata": {},
   "outputs": [
    {
     "data": {
      "text/plain": [
       "'\\n    All products | Books to Scrape - Sandbox\\n'"
      ]
     },
     "execution_count": 12,
     "metadata": {},
     "output_type": "execute_result"
    }
   ],
   "source": [
    "ans.get_attribute('innerHTML')"
   ]
  },
  {
   "cell_type": "code",
   "execution_count": 14,
   "id": "77f74cab",
   "metadata": {},
   "outputs": [
    {
     "data": {
      "text/plain": [
       "<selenium.webdriver.remote.webelement.WebElement (session=\"8b6e557cfe41c3cc5134277f771492d7\", element=\"5c9c1347-a8d9-4c7c-847f-a835b91ec49e\")>"
      ]
     },
     "execution_count": 14,
     "metadata": {},
     "output_type": "execute_result"
    }
   ],
   "source": [
    "driver.find_element_by_xpath('/html/body/div/div/ul')"
   ]
  },
  {
   "cell_type": "code",
   "execution_count": 16,
   "id": "b8ba54ba",
   "metadata": {},
   "outputs": [],
   "source": [
    "# //*[@id=\"default\"]"
   ]
  },
  {
   "cell_type": "code",
   "execution_count": 22,
   "id": "f02cf051",
   "metadata": {},
   "outputs": [],
   "source": [
    "a = driver.find_elements_by_xpath('//*')"
   ]
  },
  {
   "cell_type": "code",
   "execution_count": 24,
   "id": "f40fcd41",
   "metadata": {},
   "outputs": [
    {
     "data": {
      "text/plain": [
       "541"
      ]
     },
     "execution_count": 24,
     "metadata": {},
     "output_type": "execute_result"
    }
   ],
   "source": [
    "len(a)"
   ]
  },
  {
   "cell_type": "code",
   "execution_count": null,
   "id": "e8519dd6",
   "metadata": {},
   "outputs": [],
   "source": [
    "# google"
   ]
  },
  {
   "cell_type": "code",
   "execution_count": 35,
   "id": "841cc451",
   "metadata": {},
   "outputs": [],
   "source": [
    "driver.get('https://www.google.com')"
   ]
  },
  {
   "cell_type": "code",
   "execution_count": 36,
   "id": "f835b592",
   "metadata": {},
   "outputs": [],
   "source": [
    "text_box = driver.find_element_by_xpath('/html/body/div[1]/div[3]/form/div[1]/div[1]/div[1]/div[2]/div[2]/input')"
   ]
  },
  {
   "cell_type": "code",
   "execution_count": null,
   "id": "d6d17a0c",
   "metadata": {},
   "outputs": [],
   "source": [
    "# /html/body/div[1]/div[3]/form/div[1]/div[1]/div[1]/div[2]/div[2]/input\n",
    "/html/body/div[1]/div[3]/form/div[1]/div[1]/div[3]/center/input[1]"
   ]
  },
  {
   "cell_type": "code",
   "execution_count": 37,
   "id": "272ff6ea",
   "metadata": {},
   "outputs": [],
   "source": [
    "text_box.send_keys('selenium')"
   ]
  },
  {
   "cell_type": "code",
   "execution_count": 1,
   "id": "eefa8870",
   "metadata": {},
   "outputs": [
    {
     "ename": "NameError",
     "evalue": "name 'driver' is not defined",
     "output_type": "error",
     "traceback": [
      "\u001b[0;31m---------------------------------------------------------------------------\u001b[0m",
      "\u001b[0;31mNameError\u001b[0m                                 Traceback (most recent call last)",
      "\u001b[0;32m<ipython-input-1-9bd416979ddb>\u001b[0m in \u001b[0;36m<module>\u001b[0;34m\u001b[0m\n\u001b[0;32m----> 1\u001b[0;31m \u001b[0mbtn\u001b[0m \u001b[0;34m=\u001b[0m \u001b[0mdriver\u001b[0m\u001b[0;34m.\u001b[0m\u001b[0mfind_element_by_xpath\u001b[0m\u001b[0;34m(\u001b[0m\u001b[0;34m'/html/body/div/div/div/div/main/div/div/div/div[2]/div[2]/div[1]/div/div[6]'\u001b[0m\u001b[0;34m)\u001b[0m\u001b[0;34m\u001b[0m\u001b[0;34m\u001b[0m\u001b[0m\n\u001b[0m",
      "\u001b[0;31mNameError\u001b[0m: name 'driver' is not defined"
     ]
    }
   ],
   "source": [
    "btn = driver.find_element_by_xpath('/html/body/div[1]/div')"
   ]
  },
  {
   "cell_type": "code",
   "execution_count": 40,
   "id": "6580476f",
   "metadata": {},
   "outputs": [],
   "source": [
    "btn.submit()"
   ]
  },
  {
   "cell_type": "code",
   "execution_count": null,
   "id": "b44e9820",
   "metadata": {},
   "outputs": [],
   "source": []
  },
  {
   "cell_type": "code",
   "execution_count": 41,
   "id": "7d6af89d",
   "metadata": {},
   "outputs": [],
   "source": [
    "# google maps"
   ]
  },
  {
   "cell_type": "code",
   "execution_count": 42,
   "id": "ab60a9fa",
   "metadata": {},
   "outputs": [],
   "source": []
  },
  {
   "cell_type": "code",
   "execution_count": 49,
   "id": "6f39757f",
   "metadata": {},
   "outputs": [],
   "source": []
  },
  {
   "cell_type": "code",
   "execution_count": 58,
   "id": "69a0300f",
   "metadata": {},
   "outputs": [],
   "source": [
    "driver.get('https:google.com/maps')\n",
    "text = driver.find_element_by_xpath('//*[@id=\"searchboxinput\"]')\n",
    "text.clear()\n",
    "text.send_keys('warangal')\n",
    "btn = driver.find_element_by_xpath('//*[@id=\"searchbox-searchbutton\"]')\n",
    "btn.click()"
   ]
  },
  {
   "cell_type": "code",
   "execution_count": 56,
   "id": "f76d99a3",
   "metadata": {},
   "outputs": [],
   "source": []
  },
  {
   "cell_type": "code",
   "execution_count": 82,
   "id": "b99c454e",
   "metadata": {},
   "outputs": [],
   "source": [
    "from selenium import webdriver\n",
    "from webdriver_manager.chrome import ChromeDriverManager"
   ]
  },
  {
   "cell_type": "code",
   "execution_count": 107,
   "id": "c8c7fd74",
   "metadata": {},
   "outputs": [
    {
     "name": "stderr",
     "output_type": "stream",
     "text": [
      "\n",
      "\n",
      "====== WebDriver manager ======\n",
      "Current google-chrome version is 96.0.4664\n",
      "Get LATEST chromedriver version for 96.0.4664 google-chrome\n",
      "Driver [/Users/kushidhar/.wdm/drivers/chromedriver/mac64/96.0.4664.45/chromedriver] found in cache\n"
     ]
    }
   ],
   "source": [
    "# initiate a webdriver session\n",
    "driver = webdriver.Chrome(ChromeDriverManager().install())"
   ]
  },
  {
   "cell_type": "code",
   "execution_count": 108,
   "id": "ba30fe22",
   "metadata": {},
   "outputs": [],
   "source": [
    "# https://twitter.com/Kushidhar_3"
   ]
  },
  {
   "cell_type": "code",
   "execution_count": 109,
   "id": "f2c2ce95",
   "metadata": {},
   "outputs": [],
   "source": [
    "driver.get('https://twitter.com')"
   ]
  },
  {
   "cell_type": "code",
   "execution_count": 112,
   "id": "11398b2a",
   "metadata": {},
   "outputs": [],
   "source": [
    "btn = driver.find_element_by_xpath('/html/body/div/div/div/div/main/div/div/div/div[1]/div/div[3]/div[5]/a/div')\n",
    "btn.click()"
   ]
  },
  {
   "cell_type": "code",
   "execution_count": 113,
   "id": "4db1012a",
   "metadata": {},
   "outputs": [],
   "source": [
    "uname = driver.find_element_by_xpath('/html/body/div/div/div/div/main/div/div/div/div[2]/div[2]/div[1]/div/div[5]/label/div/div[2]/div/input')\n",
    "uname.clear()\n",
    "uname.send_keys('Kushidhar_3')"
   ]
  },
  {
   "cell_type": "code",
   "execution_count": 114,
   "id": "5583b5cf",
   "metadata": {},
   "outputs": [],
   "source": [
    "btn2 = driver.find_element_by_xpath('/html/body/div/div/div/div/main/div/div/div/div[2]/div[2]/div[1]/div/div[6]/div')\n",
    "btn2.click()"
   ]
  },
  {
   "cell_type": "code",
   "execution_count": 116,
   "id": "dc5d1f6f",
   "metadata": {},
   "outputs": [],
   "source": [
    "password = driver.find_element_by_xpath('/html/body/div/div/div/div/main/div/div/div/div[2]/div[2]/div[1]/div/div[3]/div/label/div/div[2]/div[1]/input')\n",
    "password.clear()\n",
    "password.send_keys('982995kushi')"
   ]
  },
  {
   "cell_type": "code",
   "execution_count": 117,
   "id": "484d38d9",
   "metadata": {},
   "outputs": [],
   "source": [
    "btn3 = driver.find_element_by_xpath('/html/body/div/div/div/div/main/div/div/div/div[2]/div[2]/div[3]/div/div/div')\n",
    "btn3.click()"
   ]
  },
  {
   "cell_type": "code",
   "execution_count": 148,
   "id": "c20ab6fd",
   "metadata": {},
   "outputs": [],
   "source": [
    "tweet = driver.find_element_by_xpath('/html/body/div[1]/div/div/div[2]/header/div/div/div/div[1]/div[3]')"
   ]
  },
  {
   "cell_type": "code",
   "execution_count": 149,
   "id": "9f24e582",
   "metadata": {},
   "outputs": [],
   "source": [
    "tweet.click()"
   ]
  },
  {
   "cell_type": "code",
   "execution_count": 150,
   "id": "a3528d6c",
   "metadata": {},
   "outputs": [],
   "source": [
    "message = driver.find_element_by_xpath('/html/body/div[1]/div/div/div[2]/main/div/div/div[3]/div/div/div[1]/div/div/div/div/div[2]/div[1]/div/div/div/div/div/div/div/div/div/label/div[1]/div/div/div/div/div[2]/div/div/div/div')"
   ]
  },
  {
   "cell_type": "code",
   "execution_count": 158,
   "id": "b28e0e76",
   "metadata": {},
   "outputs": [],
   "source": [
    "message.clear()\n",
    "message.send_keys('2321')\n",
    "time.sleep(3)\n",
    "message.clear()\n",
    "message.send_keys(' 8 9abc')"
   ]
  },
  {
   "cell_type": "code",
   "execution_count": 145,
   "id": "f845210e",
   "metadata": {},
   "outputs": [],
   "source": [
    "submit = driver.find_element_by_xpath('/html/body/div[1]/div/div/div[2]/main/div/div/div[2]/div/div/div/div/div[3]/div')"
   ]
  },
  {
   "cell_type": "code",
   "execution_count": 146,
   "id": "493c4c0e",
   "metadata": {},
   "outputs": [],
   "source": [
    "submit.click()"
   ]
  },
  {
   "cell_type": "code",
   "execution_count": 152,
   "id": "9702c845",
   "metadata": {},
   "outputs": [],
   "source": [
    "import time \n"
   ]
  },
  {
   "cell_type": "code",
   "execution_count": null,
   "id": "d78eb7c6",
   "metadata": {},
   "outputs": [],
   "source": []
  }
 ],
 "metadata": {
  "kernelspec": {
   "display_name": "Python 3",
   "language": "python",
   "name": "python3"
  },
  "language_info": {
   "codemirror_mode": {
    "name": "ipython",
    "version": 3
   },
   "file_extension": ".py",
   "mimetype": "text/x-python",
   "name": "python",
   "nbconvert_exporter": "python",
   "pygments_lexer": "ipython3",
   "version": "3.8.8"
  }
 },
 "nbformat": 4,
 "nbformat_minor": 5
}
