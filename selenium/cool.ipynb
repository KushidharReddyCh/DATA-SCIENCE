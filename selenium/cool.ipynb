{
 "cells": [
  {
   "cell_type": "code",
   "execution_count": 4,
   "id": "05b9f491",
   "metadata": {},
   "outputs": [],
   "source": [
    "import warnings\n",
    "warnings.filterwarnings('ignore')"
   ]
  },
  {
   "cell_type": "code",
   "execution_count": 5,
   "id": "d038832b",
   "metadata": {},
   "outputs": [],
   "source": [
    "from selenium import webdriver\n",
    "from webdriver_manager.chrome import ChromeDriverManager"
   ]
  },
  {
   "cell_type": "code",
   "execution_count": 6,
   "id": "98bd9061",
   "metadata": {},
   "outputs": [
    {
     "name": "stderr",
     "output_type": "stream",
     "text": [
      "\n",
      "\n",
      "====== WebDriver manager ======\n",
      "Current google-chrome version is 96.0.4664\n",
      "Get LATEST chromedriver version for 96.0.4664 google-chrome\n",
      "Driver [/Users/kushidhar/.wdm/drivers/chromedriver/mac64/96.0.4664.45/chromedriver] found in cache\n"
     ]
    }
   ],
   "source": [
    "# initiate a webdriver session\n",
    "driver = webdriver.Chrome(ChromeDriverManager().install())"
   ]
  },
  {
   "cell_type": "code",
   "execution_count": 38,
   "id": "c2968c4a",
   "metadata": {},
   "outputs": [],
   "source": [
    "driver.get('http://books.toscrape.com/')"
   ]
  },
  {
   "cell_type": "code",
   "execution_count": 28,
   "id": "823387f7",
   "metadata": {},
   "outputs": [],
   "source": [
    "cl = driver.find_element_by_link_text('Music')"
   ]
  },
  {
   "cell_type": "code",
   "execution_count": 29,
   "id": "5881281e",
   "metadata": {},
   "outputs": [],
   "source": [
    "cl.click()"
   ]
  },
  {
   "cell_type": "code",
   "execution_count": 22,
   "id": "055be147",
   "metadata": {},
   "outputs": [],
   "source": [
    "b1 = driver.find_element_by_partial_link_text('Free')"
   ]
  },
  {
   "cell_type": "code",
   "execution_count": 23,
   "id": "e2c3290b",
   "metadata": {},
   "outputs": [],
   "source": [
    "b1.click()"
   ]
  },
  {
   "cell_type": "code",
   "execution_count": null,
   "id": "a6c00ad6",
   "metadata": {},
   "outputs": [],
   "source": [
    "driver.back()"
   ]
  },
  {
   "cell_type": "code",
   "execution_count": 30,
   "id": "2c0c8769",
   "metadata": {},
   "outputs": [],
   "source": [
    "i1 = driver.find_element_by_class_name('image_container')"
   ]
  },
  {
   "cell_type": "code",
   "execution_count": 31,
   "id": "1101adae",
   "metadata": {},
   "outputs": [],
   "source": [
    "i1.click()"
   ]
  },
  {
   "cell_type": "code",
   "execution_count": 34,
   "id": "16735cbe",
   "metadata": {},
   "outputs": [],
   "source": [
    "i2 = driver.find_elements_by_class_name('image_container')"
   ]
  },
  {
   "cell_type": "code",
   "execution_count": 36,
   "id": "c2113fc5",
   "metadata": {},
   "outputs": [
    {
     "data": {
      "text/plain": [
       "13"
      ]
     },
     "execution_count": 36,
     "metadata": {},
     "output_type": "execute_result"
    }
   ],
   "source": [
    "len(i2)"
   ]
  },
  {
   "cell_type": "code",
   "execution_count": 40,
   "id": "4c35aebf",
   "metadata": {},
   "outputs": [
    {
     "data": {
      "text/plain": [
       "[<selenium.webdriver.remote.webelement.WebElement (session=\"50bf73615bc33bc8191a54c890ccdd97\", element=\"fbfaf06c-5f67-4a8d-bdc9-ab451d0520c4\")>,\n",
       " <selenium.webdriver.remote.webelement.WebElement (session=\"50bf73615bc33bc8191a54c890ccdd97\", element=\"0145dc50-ea06-4e13-9167-1c024df30909\")>,\n",
       " <selenium.webdriver.remote.webelement.WebElement (session=\"50bf73615bc33bc8191a54c890ccdd97\", element=\"b0edf16c-1a7e-4abf-a46e-a1b3f6733e7b\")>,\n",
       " <selenium.webdriver.remote.webelement.WebElement (session=\"50bf73615bc33bc8191a54c890ccdd97\", element=\"6f3c849a-e79a-40c9-8e0b-8e9f67f8ac8d\")>,\n",
       " <selenium.webdriver.remote.webelement.WebElement (session=\"50bf73615bc33bc8191a54c890ccdd97\", element=\"0f322dd4-3d08-4387-ad8c-ac69329c6372\")>,\n",
       " <selenium.webdriver.remote.webelement.WebElement (session=\"50bf73615bc33bc8191a54c890ccdd97\", element=\"89e5c505-eef4-4ce2-93d5-25a267998d32\")>,\n",
       " <selenium.webdriver.remote.webelement.WebElement (session=\"50bf73615bc33bc8191a54c890ccdd97\", element=\"c4827359-9c6d-451b-8221-57e6c36f3c3a\")>,\n",
       " <selenium.webdriver.remote.webelement.WebElement (session=\"50bf73615bc33bc8191a54c890ccdd97\", element=\"61f93d68-4cef-4361-b1fe-22dcb72ea74e\")>,\n",
       " <selenium.webdriver.remote.webelement.WebElement (session=\"50bf73615bc33bc8191a54c890ccdd97\", element=\"b0348f0f-3379-4cb8-bc9c-56041dbcff6c\")>,\n",
       " <selenium.webdriver.remote.webelement.WebElement (session=\"50bf73615bc33bc8191a54c890ccdd97\", element=\"32e81895-ed77-463e-ad2f-e67cf13d903d\")>,\n",
       " <selenium.webdriver.remote.webelement.WebElement (session=\"50bf73615bc33bc8191a54c890ccdd97\", element=\"5e1bdbc0-10f4-4e17-9e35-d651aad0cc59\")>,\n",
       " <selenium.webdriver.remote.webelement.WebElement (session=\"50bf73615bc33bc8191a54c890ccdd97\", element=\"0ca2e914-3e07-4c85-9834-226febfb8258\")>,\n",
       " <selenium.webdriver.remote.webelement.WebElement (session=\"50bf73615bc33bc8191a54c890ccdd97\", element=\"8175ad02-3bb2-4648-9a90-4d1cced32741\")>,\n",
       " <selenium.webdriver.remote.webelement.WebElement (session=\"50bf73615bc33bc8191a54c890ccdd97\", element=\"ae8a0a6b-a87e-48bf-9b63-2e74d904055e\")>,\n",
       " <selenium.webdriver.remote.webelement.WebElement (session=\"50bf73615bc33bc8191a54c890ccdd97\", element=\"344b8d93-1885-4475-b3f5-0c91f0d6f1c1\")>,\n",
       " <selenium.webdriver.remote.webelement.WebElement (session=\"50bf73615bc33bc8191a54c890ccdd97\", element=\"575b1cf8-9597-4134-bfdb-f67f1a6d4126\")>,\n",
       " <selenium.webdriver.remote.webelement.WebElement (session=\"50bf73615bc33bc8191a54c890ccdd97\", element=\"c1dda4de-1a7d-4d59-a538-5a37b8c7e3a2\")>,\n",
       " <selenium.webdriver.remote.webelement.WebElement (session=\"50bf73615bc33bc8191a54c890ccdd97\", element=\"05636e70-9a80-455d-9b14-b6c64b1497f0\")>,\n",
       " <selenium.webdriver.remote.webelement.WebElement (session=\"50bf73615bc33bc8191a54c890ccdd97\", element=\"80f44fe2-f638-4d87-bb2c-6c84e3436cc7\")>,\n",
       " <selenium.webdriver.remote.webelement.WebElement (session=\"50bf73615bc33bc8191a54c890ccdd97\", element=\"cea05856-4b9b-4ac2-af9c-32da405c49c0\")>]"
      ]
     },
     "execution_count": 40,
     "metadata": {},
     "output_type": "execute_result"
    }
   ],
   "source": [
    "driver.find_elements_by_tag_name('img')"
   ]
  },
  {
   "cell_type": "code",
   "execution_count": 41,
   "id": "36fa51c2",
   "metadata": {},
   "outputs": [
    {
     "data": {
      "text/plain": [
       "<selenium.webdriver.remote.webelement.WebElement (session=\"50bf73615bc33bc8191a54c890ccdd97\", element=\"62b3e559-270e-4c26-8a1e-b1663e8e3d7b\")>"
      ]
     },
     "execution_count": 41,
     "metadata": {},
     "output_type": "execute_result"
    }
   ],
   "source": [
    "driver.find_element_by_name('viewport')"
   ]
  },
  {
   "cell_type": "code",
   "execution_count": 42,
   "id": "bb839f08",
   "metadata": {},
   "outputs": [],
   "source": [
    "driver.get('http://kanview.ks.gov/PayRates/PayRates_Agency.aspx')"
   ]
  },
  {
   "cell_type": "code",
   "execution_count": null,
   "id": "74696426",
   "metadata": {},
   "outputs": [],
   "source": []
  }
 ],
 "metadata": {
  "kernelspec": {
   "display_name": "Python 3",
   "language": "python",
   "name": "python3"
  },
  "language_info": {
   "codemirror_mode": {
    "name": "ipython",
    "version": 3
   },
   "file_extension": ".py",
   "mimetype": "text/x-python",
   "name": "python",
   "nbconvert_exporter": "python",
   "pygments_lexer": "ipython3",
   "version": "3.8.8"
  }
 },
 "nbformat": 4,
 "nbformat_minor": 5
}
