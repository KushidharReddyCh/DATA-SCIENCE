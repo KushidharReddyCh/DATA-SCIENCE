{
 "cells": [
  {
   "cell_type": "code",
   "execution_count": 3,
   "id": "22634e89",
   "metadata": {},
   "outputs": [],
   "source": [
    "import numpy as np\n",
    "import pandas as pd\n",
    "from sklearn.model_selection import train_test_split\n",
    "from sklearn.preprocessing import StandardScaler"
   ]
  },
  {
   "cell_type": "code",
   "execution_count": 41,
   "id": "08c7bab9",
   "metadata": {},
   "outputs": [],
   "source": [
    "X_train  = pd.read_csv('./Training Data/Diabetes_XTrain.csv')\n",
    "y_train  = pd.read_csv('./Training Data/Diabetes_YTrain.csv')\n",
    "X_result = pd.read_csv(\"Untitled.csv\")\n",
    "\n",
    "X_train  = X_train.values\n",
    "y_train  = y_train.values\n",
    "X_result = X_result.values "
   ]
  },
  {
   "cell_type": "code",
   "execution_count": 42,
   "id": "712206b9",
   "metadata": {},
   "outputs": [],
   "source": [
    "# splitting data\n",
    "X_train,X_test,y_train,y_test = train_test_split(X_train,y_train,test_size=0.2)\n",
    "\n",
    "# scaling data\n",
    "sc = StandardScaler()\n",
    "X_train  = sc.fit_transform(X_train)\n",
    "X_test   = sc.transform(X_test)\n",
    "X_result = sc.transform(X_result)"
   ]
  },
  {
   "cell_type": "code",
   "execution_count": 9,
   "id": "0d2a1208",
   "metadata": {},
   "outputs": [],
   "source": [
    "class kNN_classifier:\n",
    "    \n",
    "    def __init__(self,k):\n",
    "        self.k = k\n",
    "        \n",
    "    def fit(self,X,y):\n",
    "        self.X = X\n",
    "        self.y = y\n",
    "        \n",
    "    def dist(self,x,y):\n",
    "        d=np.sqrt(((x-y)**2).sum())\n",
    "        return d\n",
    "    \n",
    "    def predict(self,p):\n",
    "        \n",
    "        distances = [] \n",
    "        \n",
    "        for i in range(len(self.X)):\n",
    "            d = self.dist(self.X[i],p)\n",
    "            distances.append((d,self.y[i][0]))\n",
    "        \n",
    "        distances = sorted(distances)\n",
    "        vals = distances[:self.k]\n",
    "        classes = []\n",
    "        \n",
    "        for dist,i in vals:\n",
    "            classes.append(i)\n",
    "            \n",
    "        class_,counts = np.unique(classes,return_counts=True)\n",
    "        ix = np.argmax(counts)\n",
    "        pred = {\"class\":class_[ix],\"prob\":np.max(counts)/np.sum(counts)}\n",
    "        return pred\n",
    "        "
   ]
  },
  {
   "cell_type": "code",
   "execution_count": 54,
   "id": "ce64c18e",
   "metadata": {},
   "outputs": [],
   "source": [
    "x_axis = []\n",
    "y_axis = []\n",
    "for k_ in range(1,len(X_train),2):\n",
    "    knn_model = kNN_classifier(k_)\n",
    "    knn_model.fit(X_train,y_train)\n",
    "    \n",
    "    predictions = []\n",
    "    \n",
    "    for i in range(len(X_test)):\n",
    "        predictions.append(knn_model.predict(X_test[i])[\"class\"])\n",
    "    x_axis.append(k_)\n",
    "    y_axis.append(np.mean(predictions == ytest))\n",
    "#     print(k_,)"
   ]
  },
  {
   "cell_type": "code",
   "execution_count": 94,
   "id": "8ea70617",
   "metadata": {},
   "outputs": [
    {
     "data": {
      "text/plain": [
       "(array([0, 1]), array([65, 51]))"
      ]
     },
     "execution_count": 94,
     "metadata": {},
     "output_type": "execute_result"
    }
   ],
   "source": [
    "np.unique(y_test,return_counts = True)"
   ]
  },
  {
   "cell_type": "code",
   "execution_count": 85,
   "id": "12fc96e9",
   "metadata": {},
   "outputs": [
    {
     "data": {
      "text/plain": [
       "[<matplotlib.lines.Line2D at 0x7fce83554c70>]"
      ]
     },
     "execution_count": 85,
     "metadata": {},
     "output_type": "execute_result"
    },
    {
     "data": {
      "image/png": "[encoded data removed]",
      "text/plain": [
       "<Figure size 432x288 with 1 Axes>"
      ]
     },
     "metadata": {
      "needs_background": "light"
     },
     "output_type": "display_data"
    }
   ],
   "source": [
    "import matplotlib.pyplot as plt\n",
    "plt.plot(x_axis,y_axis)"
   ]
  },
  {
   "cell_type": "code",
   "execution_count": 91,
   "id": "ea199514",
   "metadata": {},
   "outputs": [],
   "source": [
    "knn_model = kNN_classifier(5)\n",
    "knn_model.fit(X_train,y_train)\n",
    "predictions = []\n",
    "for i in range(len(X_result)):\n",
    "    predictions.append(knn_model.predict(X_result[i])[\"class\"])\n"
   ]
  },
  {
   "cell_type": "code",
   "execution_count": 96,
   "id": "4b2b1b89",
   "metadata": {},
   "outputs": [
    {
     "data": {
      "text/plain": [
       "(array([0, 1]), array([140,  52]))"
      ]
     },
     "execution_count": 96,
     "metadata": {},
     "output_type": "execute_result"
    }
   ],
   "source": [
    "np.unique(predictions,return_counts = True)"
   ]
  },
  {
   "cell_type": "code",
   "execution_count": 92,
   "id": "289c2663",
   "metadata": {},
   "outputs": [],
   "source": [
    "with open(\"result.csv\",'w',encoding = 'utf-8') as f:\n",
    "    f.write(\"Outcome\\n\")\n",
    "    for p in predictions:\n",
    "        f.write(str(p)+\"\\n\")"
   ]
  },
  {
   "cell_type": "code",
   "execution_count": 97,
   "id": "46bed346",
   "metadata": {},
   "outputs": [
    {
     "data": {
      "text/html": [
       "<div>\n",
       "<style scoped>\n",
       "    .dataframe tbody tr th:only-of-type {\n",
       "        vertical-align: middle;\n",
       "    }\n",
       "\n",
       "    .dataframe tbody tr th {\n",
       "        vertical-align: top;\n",
       "    }\n",
       "\n",
       "    .dataframe thead th {\n",
       "        text-align: right;\n",
       "    }\n",
       "</style>\n",
       "<table border=\"1\" class=\"dataframe\">\n",
       "  <thead>\n",
       "    <tr style=\"text-align: right;\">\n",
       "      <th></th>\n",
       "      <th>Outcome</th>\n",
       "    </tr>\n",
       "  </thead>\n",
       "  <tbody>\n",
       "    <tr>\n",
       "      <th>0</th>\n",
       "      <td>1</td>\n",
       "    </tr>\n",
       "    <tr>\n",
       "      <th>1</th>\n",
       "      <td>0</td>\n",
       "    </tr>\n",
       "    <tr>\n",
       "      <th>2</th>\n",
       "      <td>0</td>\n",
       "    </tr>\n",
       "    <tr>\n",
       "      <th>3</th>\n",
       "      <td>0</td>\n",
       "    </tr>\n",
       "    <tr>\n",
       "      <th>4</th>\n",
       "      <td>0</td>\n",
       "    </tr>\n",
       "    <tr>\n",
       "      <th>...</th>\n",
       "      <td>...</td>\n",
       "    </tr>\n",
       "    <tr>\n",
       "      <th>187</th>\n",
       "      <td>0</td>\n",
       "    </tr>\n",
       "    <tr>\n",
       "      <th>188</th>\n",
       "      <td>0</td>\n",
       "    </tr>\n",
       "    <tr>\n",
       "      <th>189</th>\n",
       "      <td>1</td>\n",
       "    </tr>\n",
       "    <tr>\n",
       "      <th>190</th>\n",
       "      <td>0</td>\n",
       "    </tr>\n",
       "    <tr>\n",
       "      <th>191</th>\n",
       "      <td>0</td>\n",
       "    </tr>\n",
       "  </tbody>\n",
       "</table>\n",
       "<p>192 rows × 1 columns</p>\n",
       "</div>"
      ],
      "text/plain": [
       "     Outcome\n",
       "0          1\n",
       "1          0\n",
       "2          0\n",
       "3          0\n",
       "4          0\n",
       "..       ...\n",
       "187        0\n",
       "188        0\n",
       "189        1\n",
       "190        0\n",
       "191        0\n",
       "\n",
       "[192 rows x 1 columns]"
      ]
     },
     "execution_count": 97,
     "metadata": {},
     "output_type": "execute_result"
    }
   ],
   "source": [
    "dataset = pd.read_csv(\"result.csv\")\n",
    "dataset"
   ]
  },
  {
   "cell_type": "code",
   "execution_count": null,
   "id": "f3d930cf",
   "metadata": {},
   "outputs": [],
   "source": []
  }
 ],
 "metadata": {
  "kernelspec": {
   "display_name": "Python 3",
   "language": "python",
   "name": "python3"
  },
  "language_info": {
   "codemirror_mode": {
    "name": "ipython",
    "version": 3
   },
   "file_extension": ".py",
   "mimetype": "text/x-python",
   "name": "python",
   "nbconvert_exporter": "python",
   "pygments_lexer": "ipython3",
   "version": "3.8.8"
  }
 },
 "nbformat": 4,
 "nbformat_minor": 5
}
