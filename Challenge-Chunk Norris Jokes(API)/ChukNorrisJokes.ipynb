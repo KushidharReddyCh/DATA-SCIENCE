{
 "cells": [
  {
   "cell_type": "code",
   "execution_count": 76,
   "id": "c4bfae54",
   "metadata": {},
   "outputs": [],
   "source": [
    "import requests\n",
    "import json"
   ]
  },
  {
   "cell_type": "code",
   "execution_count": 77,
   "id": "123a8466",
   "metadata": {},
   "outputs": [],
   "source": [
    "url = \"https://api.icndb.com/jokes/\"\n",
    "request = requests.get(url)\n",
    "data = request.content\n",
    "json_data = json.loads(data)"
   ]
  },
  {
   "cell_type": "code",
   "execution_count": 119,
   "id": "f542b3e8",
   "metadata": {},
   "outputs": [],
   "source": [
    "result = []\n",
    "for i in range(len(df)):\n",
    "    s = df[i]['joke']\n",
    "    s = f'\"{s}\"'\n",
    "    s = str(df[i]['id'])+\",\"+s+\"\\n\"\n",
    "    result.append(s)"
   ]
  },
  {
   "cell_type": "code",
   "execution_count": 120,
   "id": "72a37d8f",
   "metadata": {},
   "outputs": [],
   "source": [
    "filename = \"ChukNorrisJokes.csv\"\n",
    "with open(filename,'w',encoding='utf-8') as f:\n",
    "    f.write(\"id,jokes\\n\")\n",
    "    for joke in result:\n",
    "        f.write(joke)"
   ]
  },
  {
   "cell_type": "code",
   "execution_count": 121,
   "id": "1abdadd6",
   "metadata": {},
   "outputs": [],
   "source": [
    "import pandas as pd\n",
    "dataset = pd.read_csv(filename)"
   ]
  },
  {
   "cell_type": "code",
   "execution_count": 118,
   "id": "8a44c7fb",
   "metadata": {},
   "outputs": [
    {
     "data": {
      "text/html": [
       "<div>\n",
       "<style scoped>\n",
       "    .dataframe tbody tr th:only-of-type {\n",
       "        vertical-align: middle;\n",
       "    }\n",
       "\n",
       "    .dataframe tbody tr th {\n",
       "        vertical-align: top;\n",
       "    }\n",
       "\n",
       "    .dataframe thead th {\n",
       "        text-align: right;\n",
       "    }\n",
       "</style>\n",
       "<table border=\"1\" class=\"dataframe\">\n",
       "  <thead>\n",
       "    <tr style=\"text-align: right;\">\n",
       "      <th></th>\n",
       "      <th>id</th>\n",
       "      <th>jokes</th>\n",
       "    </tr>\n",
       "  </thead>\n",
       "  <tbody>\n",
       "    <tr>\n",
       "      <th>0</th>\n",
       "      <td>1</td>\n",
       "      <td>Chuck Norris uses ribbed condoms inside out, s...</td>\n",
       "    </tr>\n",
       "    <tr>\n",
       "      <th>1</th>\n",
       "      <td>2</td>\n",
       "      <td>MacGyver can build an airplane out of gum and ...</td>\n",
       "    </tr>\n",
       "    <tr>\n",
       "      <th>2</th>\n",
       "      <td>3</td>\n",
       "      <td>Chuck Norris doesn't read books. He stares the...</td>\n",
       "    </tr>\n",
       "    <tr>\n",
       "      <th>3</th>\n",
       "      <td>4</td>\n",
       "      <td>If you ask Chuck Norris what time it is, he al...</td>\n",
       "    </tr>\n",
       "    <tr>\n",
       "      <th>4</th>\n",
       "      <td>5</td>\n",
       "      <td>Chuck Norris lost his virginity before his dad...</td>\n",
       "    </tr>\n",
       "    <tr>\n",
       "      <th>...</th>\n",
       "      <td>...</td>\n",
       "      <td>...</td>\n",
       "    </tr>\n",
       "    <tr>\n",
       "      <th>569</th>\n",
       "      <td>615</td>\n",
       "      <td>Chuck Norris can build a snowman out of rain.</td>\n",
       "    </tr>\n",
       "    <tr>\n",
       "      <th>570</th>\n",
       "      <td>616</td>\n",
       "      <td>Chuck Norris made the sun by rubbing his hands...</td>\n",
       "    </tr>\n",
       "    <tr>\n",
       "      <th>571</th>\n",
       "      <td>617</td>\n",
       "      <td>Chuck Norris doesn't turn on his faucet, he st...</td>\n",
       "    </tr>\n",
       "    <tr>\n",
       "      <th>572</th>\n",
       "      <td>618</td>\n",
       "      <td>Chuck Norris puts sunglasses on to protect the...</td>\n",
       "    </tr>\n",
       "    <tr>\n",
       "      <th>573</th>\n",
       "      <td>619</td>\n",
       "      <td>Chuck Norris can lock a safe and keep the key ...</td>\n",
       "    </tr>\n",
       "  </tbody>\n",
       "</table>\n",
       "<p>574 rows × 2 columns</p>\n",
       "</div>"
      ],
      "text/plain": [
       "      id                                              jokes\n",
       "0      1  Chuck Norris uses ribbed condoms inside out, s...\n",
       "1      2  MacGyver can build an airplane out of gum and ...\n",
       "2      3  Chuck Norris doesn't read books. He stares the...\n",
       "3      4  If you ask Chuck Norris what time it is, he al...\n",
       "4      5  Chuck Norris lost his virginity before his dad...\n",
       "..   ...                                                ...\n",
       "569  615      Chuck Norris can build a snowman out of rain.\n",
       "570  616  Chuck Norris made the sun by rubbing his hands...\n",
       "571  617  Chuck Norris doesn't turn on his faucet, he st...\n",
       "572  618  Chuck Norris puts sunglasses on to protect the...\n",
       "573  619  Chuck Norris can lock a safe and keep the key ...\n",
       "\n",
       "[574 rows x 2 columns]"
      ]
     },
     "execution_count": 118,
     "metadata": {},
     "output_type": "execute_result"
    }
   ],
   "source": [
    "dataset"
   ]
  }
 ],
 "metadata": {
  "kernelspec": {
   "display_name": "Python 3",
   "language": "python",
   "name": "python3"
  },
  "language_info": {
   "codemirror_mode": {
    "name": "ipython",
    "version": 3
   },
   "file_extension": ".py",
   "mimetype": "text/x-python",
   "name": "python",
   "nbconvert_exporter": "python",
   "pygments_lexer": "ipython3",
   "version": "3.8.8"
  }
 },
 "nbformat": 4,
 "nbformat_minor": 5
}
