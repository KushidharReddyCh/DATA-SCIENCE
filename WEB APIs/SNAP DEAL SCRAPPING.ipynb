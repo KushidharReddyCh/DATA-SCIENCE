{
 "cells": [
  {
   "cell_type": "code",
   "execution_count": 1,
   "id": "99a24da9",
   "metadata": {},
   "outputs": [
    {
     "name": "stdout",
     "output_type": "stream",
     "text": [
      "Requirement already satisfied: bs4 in /Users/kushidhar/opt/anaconda3/lib/python3.8/site-packages (0.0.1)\n",
      "Requirement already satisfied: beautifulsoup4 in /Users/kushidhar/opt/anaconda3/lib/python3.8/site-packages (from bs4) (4.9.3)\n",
      "Requirement already satisfied: soupsieve>1.2 in /Users/kushidhar/opt/anaconda3/lib/python3.8/site-packages (from beautifulsoup4->bs4) (2.2.1)\n",
      "Requirement already satisfied: html5lib in /Users/kushidhar/opt/anaconda3/lib/python3.8/site-packages (1.1)\n",
      "Requirement already satisfied: webencodings in /Users/kushidhar/opt/anaconda3/lib/python3.8/site-packages (from html5lib) (0.5.1)\n",
      "Requirement already satisfied: six>=1.9 in /Users/kushidhar/opt/anaconda3/lib/python3.8/site-packages (from html5lib) (1.15.0)\n"
     ]
    }
   ],
   "source": [
    "!pip install bs4\n",
    "!pip install html5lib"
   ]
  },
  {
   "cell_type": "code",
   "execution_count": 5,
   "id": "31d9e883",
   "metadata": {},
   "outputs": [],
   "source": [
    "import bs4\n",
    "import requests"
   ]
  },
  {
   "cell_type": "code",
   "execution_count": 62,
   "id": "e779c2b8",
   "metadata": {},
   "outputs": [],
   "source": [
    "res = soup.findAll('div',{'class':'col-6 col-lg-3 text-center margin-30px-bottom sm-margin-30px-top'})"
   ]
  },
  {
   "cell_type": "code",
   "execution_count": 63,
   "id": "208a791c",
   "metadata": {},
   "outputs": [],
   "source": [
    "result = []\n",
    "for i in range(len(res)):\n",
    "    temp = (str(res[i].findAll('img')).split()[-2]).split(\"\\\"\")[1]\n",
    "    result.append(temp)"
   ]
  },
  {
   "cell_type": "code",
   "execution_count": 71,
   "id": "973eae89",
   "metadata": {},
   "outputs": [],
   "source": [
    "result = []\n",
    "for i in range(0,10):\n",
    "    url = \"https://www.passiton.com/inspirational-quotes?\"\n",
    "    parameters = {\"page\" :str(i)}\n",
    "    response = requests.get(url,params=parameters)\n",
    "    soup = bs4.BeautifulSoup(response.content)\n",
    "    res = soup.findAll('div',{'class':'col-6 col-lg-3 text-center margin-30px-bottom sm-margin-30px-top'})\n",
    "    \n",
    "    for i in range(len(res)):\n",
    "        temp = (str(res[i].findAll('img')).split()[-2]).split(\"\\\"\")[1]\n",
    "        result.append(temp)"
   ]
  },
  {
   "cell_type": "code",
   "execution_count": 73,
   "id": "2b39b28a",
   "metadata": {},
   "outputs": [
    {
     "data": {
      "text/plain": [
       "288"
      ]
     },
     "execution_count": 73,
     "metadata": {},
     "output_type": "execute_result"
    }
   ],
   "source": [
    "len(result)"
   ]
  },
  {
   "cell_type": "code",
   "execution_count": 85,
   "id": "4eb56f07",
   "metadata": {},
   "outputs": [],
   "source": [
    "for i,img in enumerate(result):\n",
    "    with open('inspiration{}.jpg'.format(i),'wb') as file:\n",
    "        img_url = img\n",
    "        response = requests.get(img_url)\n",
    "        file.write(response.content)"
   ]
  },
  {
   "cell_type": "code",
   "execution_count": 100,
   "id": "f5706ed7",
   "metadata": {},
   "outputs": [],
   "source": [
    "# url = \"https://www.instagram.com/lazypanda._/\"\n",
    "# re = requests.get(url)\n",
    "# soup = bs4.BeautifulSoup(re.content)\n",
    "# soup.findAll('div',{'class':'v1Nh3'})\n",
    "# soup"
   ]
  },
  {
   "cell_type": "code",
   "execution_count": 99,
   "id": "6fead4c3",
   "metadata": {},
   "outputs": [],
   "source": []
  },
  {
   "cell_type": "code",
   "execution_count": 98,
   "id": "f93dc7dd",
   "metadata": {},
   "outputs": [],
   "source": []
  },
  {
   "cell_type": "code",
   "execution_count": null,
   "id": "bd19d2ae",
   "metadata": {},
   "outputs": [],
   "source": []
  }
 ],
 "metadata": {
  "kernelspec": {
   "display_name": "Python 3",
   "language": "python",
   "name": "python3"
  },
  "language_info": {
   "codemirror_mode": {
    "name": "ipython",
    "version": 3
   },
   "file_extension": ".py",
   "mimetype": "text/x-python",
   "name": "python",
   "nbconvert_exporter": "python",
   "pygments_lexer": "ipython3",
   "version": "3.8.8"
  }
 },
 "nbformat": 4,
 "nbformat_minor": 5
}
