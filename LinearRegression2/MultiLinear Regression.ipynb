{
 "cells": [
  {
   "cell_type": "markdown",
   "id": "9d54f3cf",
   "metadata": {},
   "source": [
    "# Boston Houses Dataset \n",
    "- Exploratory Analysis"
   ]
  },
  {
   "cell_type": "code",
   "execution_count": 1,
   "id": "adff4e6c",
   "metadata": {},
   "outputs": [],
   "source": [
    "from sklearn.datasets import load_boston"
   ]
  },
  {
   "cell_type": "code",
   "execution_count": 2,
   "id": "e7e5dd9d",
   "metadata": {},
   "outputs": [],
   "source": [
    "boston = load_boston()"
   ]
  },
  {
   "cell_type": "code",
   "execution_count": 15,
   "id": "5483dfd5",
   "metadata": {},
   "outputs": [],
   "source": [
    "X = boston.data\n",
    "y = boston.target"
   ]
  },
  {
   "cell_type": "code",
   "execution_count": 16,
   "id": "6d1bc088",
   "metadata": {},
   "outputs": [
    {
     "data": {
      "text/html": [
       "<div>\n",
       "<style scoped>\n",
       "    .dataframe tbody tr th:only-of-type {\n",
       "        vertical-align: middle;\n",
       "    }\n",
       "\n",
       "    .dataframe tbody tr th {\n",
       "        vertical-align: top;\n",
       "    }\n",
       "\n",
       "    .dataframe thead th {\n",
       "        text-align: right;\n",
       "    }\n",
       "</style>\n",
       "<table border=\"1\" class=\"dataframe\">\n",
       "  <thead>\n",
       "    <tr style=\"text-align: right;\">\n",
       "      <th></th>\n",
       "      <th>CRIM</th>\n",
       "      <th>ZN</th>\n",
       "      <th>INDUS</th>\n",
       "      <th>CHAS</th>\n",
       "      <th>NOX</th>\n",
       "      <th>RM</th>\n",
       "      <th>AGE</th>\n",
       "      <th>DIS</th>\n",
       "      <th>RAD</th>\n",
       "      <th>TAX</th>\n",
       "      <th>PTRATIO</th>\n",
       "      <th>B</th>\n",
       "      <th>LSTAT</th>\n",
       "    </tr>\n",
       "  </thead>\n",
       "  <tbody>\n",
       "    <tr>\n",
       "      <th>0</th>\n",
       "      <td>0.00632</td>\n",
       "      <td>18.0</td>\n",
       "      <td>2.31</td>\n",
       "      <td>0.0</td>\n",
       "      <td>0.538</td>\n",
       "      <td>6.575</td>\n",
       "      <td>65.2</td>\n",
       "      <td>4.0900</td>\n",
       "      <td>1.0</td>\n",
       "      <td>296.0</td>\n",
       "      <td>15.3</td>\n",
       "      <td>396.90</td>\n",
       "      <td>4.98</td>\n",
       "    </tr>\n",
       "    <tr>\n",
       "      <th>1</th>\n",
       "      <td>0.02731</td>\n",
       "      <td>0.0</td>\n",
       "      <td>7.07</td>\n",
       "      <td>0.0</td>\n",
       "      <td>0.469</td>\n",
       "      <td>6.421</td>\n",
       "      <td>78.9</td>\n",
       "      <td>4.9671</td>\n",
       "      <td>2.0</td>\n",
       "      <td>242.0</td>\n",
       "      <td>17.8</td>\n",
       "      <td>396.90</td>\n",
       "      <td>9.14</td>\n",
       "    </tr>\n",
       "    <tr>\n",
       "      <th>2</th>\n",
       "      <td>0.02729</td>\n",
       "      <td>0.0</td>\n",
       "      <td>7.07</td>\n",
       "      <td>0.0</td>\n",
       "      <td>0.469</td>\n",
       "      <td>7.185</td>\n",
       "      <td>61.1</td>\n",
       "      <td>4.9671</td>\n",
       "      <td>2.0</td>\n",
       "      <td>242.0</td>\n",
       "      <td>17.8</td>\n",
       "      <td>392.83</td>\n",
       "      <td>4.03</td>\n",
       "    </tr>\n",
       "    <tr>\n",
       "      <th>3</th>\n",
       "      <td>0.03237</td>\n",
       "      <td>0.0</td>\n",
       "      <td>2.18</td>\n",
       "      <td>0.0</td>\n",
       "      <td>0.458</td>\n",
       "      <td>6.998</td>\n",
       "      <td>45.8</td>\n",
       "      <td>6.0622</td>\n",
       "      <td>3.0</td>\n",
       "      <td>222.0</td>\n",
       "      <td>18.7</td>\n",
       "      <td>394.63</td>\n",
       "      <td>2.94</td>\n",
       "    </tr>\n",
       "    <tr>\n",
       "      <th>4</th>\n",
       "      <td>0.06905</td>\n",
       "      <td>0.0</td>\n",
       "      <td>2.18</td>\n",
       "      <td>0.0</td>\n",
       "      <td>0.458</td>\n",
       "      <td>7.147</td>\n",
       "      <td>54.2</td>\n",
       "      <td>6.0622</td>\n",
       "      <td>3.0</td>\n",
       "      <td>222.0</td>\n",
       "      <td>18.7</td>\n",
       "      <td>396.90</td>\n",
       "      <td>5.33</td>\n",
       "    </tr>\n",
       "  </tbody>\n",
       "</table>\n",
       "</div>"
      ],
      "text/plain": [
       "      CRIM    ZN  INDUS  CHAS    NOX     RM   AGE     DIS  RAD    TAX  \\\n",
       "0  0.00632  18.0   2.31   0.0  0.538  6.575  65.2  4.0900  1.0  296.0   \n",
       "1  0.02731   0.0   7.07   0.0  0.469  6.421  78.9  4.9671  2.0  242.0   \n",
       "2  0.02729   0.0   7.07   0.0  0.469  7.185  61.1  4.9671  2.0  242.0   \n",
       "3  0.03237   0.0   2.18   0.0  0.458  6.998  45.8  6.0622  3.0  222.0   \n",
       "4  0.06905   0.0   2.18   0.0  0.458  7.147  54.2  6.0622  3.0  222.0   \n",
       "\n",
       "   PTRATIO       B  LSTAT  \n",
       "0     15.3  396.90   4.98  \n",
       "1     17.8  396.90   9.14  \n",
       "2     17.8  392.83   4.03  \n",
       "3     18.7  394.63   2.94  \n",
       "4     18.7  396.90   5.33  "
      ]
     },
     "execution_count": 16,
     "metadata": {},
     "output_type": "execute_result"
    }
   ],
   "source": [
    "import pandas as pd\n",
    "df = pd.DataFrame(X)\n",
    "df.columns = boston.feature_names\n",
    "df.head()"
   ]
  },
  {
   "cell_type": "code",
   "execution_count": 17,
   "id": "322558b7",
   "metadata": {},
   "outputs": [],
   "source": [
    "import numpy as np\n",
    "u = np.mean(X,axis = 0)\n",
    "std = np.std(X,axis = 0)\n"
   ]
  },
  {
   "cell_type": "code",
   "execution_count": 18,
   "id": "7c231ff4",
   "metadata": {},
   "outputs": [],
   "source": [
    "X = (X-u)/std"
   ]
  },
  {
   "cell_type": "code",
   "execution_count": 19,
   "id": "fe6ff6fc",
   "metadata": {},
   "outputs": [],
   "source": [
    "import matplotlib.pyplot as plt"
   ]
  },
  {
   "cell_type": "code",
   "execution_count": 20,
   "id": "c75f787f",
   "metadata": {},
   "outputs": [
    {
     "data": {
      "image/png": "[encoded data removed]",
      "text/plain": [
       "<Figure size 576x396 with 1 Axes>"
      ]
     },
     "metadata": {},
     "output_type": "display_data"
    }
   ],
   "source": [
    "plt.style.use('seaborn')\n",
    "plt.scatter(X[:,6],y)\n",
    "plt.show()"
   ]
  },
  {
   "cell_type": "markdown",
   "id": "92364369",
   "metadata": {},
   "source": [
    "# Section - 2 Linear Regression"
   ]
  },
  {
   "cell_type": "code",
   "execution_count": 21,
   "id": "b2f59e17",
   "metadata": {},
   "outputs": [
    {
     "data": {
      "text/plain": [
       "((506, 13), (506,))"
      ]
     },
     "execution_count": 21,
     "metadata": {},
     "output_type": "execute_result"
    }
   ],
   "source": [
    "X.shape,y.shape"
   ]
  },
  {
   "cell_type": "code",
   "execution_count": 23,
   "id": "7adf50c6",
   "metadata": {},
   "outputs": [],
   "source": [
    "ones = np.ones((X.shape[0],1))\n",
    "X = np.hstack((ones,X))\n",
    "X.shape"
   ]
  },
  {
   "cell_type": "code",
   "execution_count": 24,
   "id": "b977cf6f",
   "metadata": {},
   "outputs": [
    {
     "data": {
      "text/plain": [
       "array([[ 1.        , -0.41978194,  0.28482986, -1.2879095 ],\n",
       "       [ 1.        , -0.41733926, -0.48772236, -0.59338101],\n",
       "       [ 1.        , -0.41734159, -0.48772236, -0.59338101],\n",
       "       [ 1.        , -0.41675042, -0.48772236, -1.30687771],\n",
       "       [ 1.        , -0.41248185, -0.48772236, -1.30687771]])"
      ]
     },
     "execution_count": 24,
     "metadata": {},
     "output_type": "execute_result"
    }
   ],
   "source": [
    "X[:5,:4]"
   ]
  },
  {
   "cell_type": "code",
   "execution_count": 25,
   "id": "e3c1b439",
   "metadata": {},
   "outputs": [],
   "source": [
    "# X = matrix (m x n)\n",
    "# x = vector (Single Example with n features)\n",
    "\n",
    "def hypothesis(x,theta):\n",
    "    y_ = 0.0\n",
    "    n  = x.shape[0]\n",
    "    for i in range(n):\n",
    "        y_ += (theta[i]*x[i])\n",
    "    return y_"
   ]
  },
  {
   "cell_type": "code",
   "execution_count": 31,
   "id": "4b847965",
   "metadata": {},
   "outputs": [],
   "source": [
    "def error(X,y,theta):\n",
    "    e = 0.0\n",
    "    m = X.shape[0]\n",
    "    \n",
    "    for i in range(m):\n",
    "        y_ = hypothesis(X[i],theta)\n",
    "        e  += (y[i]-y_)**2\n",
    "    return e/m"
   ]
  },
  {
   "cell_type": "code",
   "execution_count": 32,
   "id": "2e526f5f",
   "metadata": {},
   "outputs": [],
   "source": [
    "def gradient(X,y,theta):\n",
    "    m,n = X.shape\n",
    "    grad = np.zeros((n,))\n",
    "    \n",
    "    for j in range(n):\n",
    "        for i in range(m):\n",
    "            y_ = hypothesis(X[i],theta)\n",
    "            grad[j] += (y_ - y[i])*X[i][j]\n",
    "    \n",
    "    return grad/m"
   ]
  },
  {
   "cell_type": "code",
   "execution_count": 51,
   "id": "296bf170",
   "metadata": {},
   "outputs": [],
   "source": [
    "def gradient_descent(X,y,alpha=0.1,max_epochs = 600):\n",
    "    m,n = X.shape\n",
    "    theta = np.zeros((n,))\n",
    "    error_list = []\n",
    "    for i in range(max_epochs):\n",
    "        e = error(X,y,theta)\n",
    "        error_list.append(e)\n",
    "        \n",
    "        grad = gradient(X,y,theta)\n",
    "        for j in range(n):\n",
    "            theta[j] = theta[j]-alpha*grad[j]\n",
    "    return theta,error_list"
   ]
  },
  {
   "cell_type": "code",
   "execution_count": 52,
   "id": "96f6f486",
   "metadata": {},
   "outputs": [],
   "source": [
    "import time\n",
    "start = time.time()\n",
    "theta,error_list = gradient_descent(X,y)\n",
    "end = time.time()"
   ]
  },
  {
   "cell_type": "code",
   "execution_count": 54,
   "id": "0e88de04",
   "metadata": {},
   "outputs": [
    {
     "data": {
      "text/plain": [
       "18.718055963516235"
      ]
     },
     "execution_count": 54,
     "metadata": {},
     "output_type": "execute_result"
    }
   ],
   "source": [
    "end-start\n",
    "# 9.336976766586304\n",
    "# 9.361549854278564\n",
    "# 18.718055963516235"
   ]
  },
  {
   "cell_type": "code",
   "execution_count": 35,
   "id": "18d9b522",
   "metadata": {},
   "outputs": [
    {
     "name": "stdout",
     "output_type": "stream",
     "text": [
      "[ 2.25328063e+01 -9.03091692e-01  1.03815625e+00  1.53477685e-02\n",
      "  6.99554920e-01 -2.02101672e+00  2.70014278e+00 -1.93085233e-03\n",
      " -3.10234837e+00  2.34354753e+00 -1.72031485e+00 -2.04614394e+00\n",
      "  8.47845679e-01 -3.73089521e+00]\n"
     ]
    }
   ],
   "source": [
    "print(theta)"
   ]
  },
  {
   "cell_type": "code",
   "execution_count": 36,
   "id": "c663977e",
   "metadata": {},
   "outputs": [
    {
     "data": {
      "text/plain": [
       "[<matplotlib.lines.Line2D at 0x7fcff0772ca0>]"
      ]
     },
     "execution_count": 36,
     "metadata": {},
     "output_type": "execute_result"
    },
    {
     "data": {
      "image/png": "[encoded data removed]",
      "text/plain": [
       "<Figure size 576x396 with 1 Axes>"
      ]
     },
     "metadata": {},
     "output_type": "display_data"
    }
   ],
   "source": [
    "plt.plot(error_list)"
   ]
  },
  {
   "cell_type": "markdown",
   "id": "3283243f",
   "metadata": {},
   "source": [
    "# Predictions \n",
    "\n"
   ]
  },
  {
   "cell_type": "code",
   "execution_count": 46,
   "id": "5254a04b",
   "metadata": {},
   "outputs": [],
   "source": [
    "y_ = []\n",
    "for i in range(X.shape[0]):\n",
    "    pred = hypothesis(X[i],theta)\n",
    "    y_.append(pred)\n",
    "y_ = np.array(y_)"
   ]
  },
  {
   "cell_type": "code",
   "execution_count": 47,
   "id": "f743c778",
   "metadata": {},
   "outputs": [],
   "source": [
    "def r2_score(y,y_):\n",
    "    num = np.sum((y-y_)**2)\n",
    "    denom = np.sum((y-y.mean())**2)\n",
    "    score = (1-num/denom)\n",
    "    return score*100"
   ]
  },
  {
   "cell_type": "code",
   "execution_count": 48,
   "id": "e2af578f",
   "metadata": {},
   "outputs": [
    {
     "data": {
      "text/plain": [
       "74.04541323942743"
      ]
     },
     "execution_count": 48,
     "metadata": {},
     "output_type": "execute_result"
    }
   ],
   "source": [
    "r2_score(y,y_)"
   ]
  },
  {
   "cell_type": "markdown",
   "id": "15c21793",
   "metadata": {},
   "source": [
    "# Efficient || Vectorization"
   ]
  },
  {
   "cell_type": "code",
   "execution_count": 84,
   "id": "85493719",
   "metadata": {},
   "outputs": [],
   "source": [
    "def hypothesis(x,theta):\n",
    "    return np.dot(X,theta)"
   ]
  },
  {
   "cell_type": "code",
   "execution_count": 85,
   "id": "87dc19e9",
   "metadata": {},
   "outputs": [],
   "source": [
    "def error(X,y,theta):\n",
    "    error = 0.0\n",
    "    m = X.shape[0]\n",
    "    y_ = hypothesis(X,theta)\n",
    "    e = np.sum((y-y_)**2)\n",
    "    return e/m"
   ]
  },
  {
   "cell_type": "code",
   "execution_count": 86,
   "id": "dc6f34ce",
   "metadata": {},
   "outputs": [],
   "source": [
    "def gradient(X,y,theta):\n",
    "    y_ = hypothesis(X,theta)\n",
    "    grad = np.dot(X.T,(y_-y))\n",
    "    m = X.shape[0]\n",
    "    return grad/m"
   ]
  },
  {
   "cell_type": "code",
   "execution_count": 95,
   "id": "94a58b7b",
   "metadata": {},
   "outputs": [],
   "source": [
    "def gradient_descent(X,y,alpha = 0.1,max_iters = 300):\n",
    "    n = X.shape[1]\n",
    "    theta = np.zeros((n,))\n",
    "    error_list = []\n",
    "    for i in range(max_iters):\n",
    "        e = error(X,y,theta)\n",
    "        error_list.append(e)\n",
    "        \n",
    "        grad = gradient(X,y,theta)\n",
    "        theta = theta-alpha*grad\n",
    "    return theta,error_list"
   ]
  },
  {
   "cell_type": "code",
   "execution_count": 96,
   "id": "5550161c",
   "metadata": {},
   "outputs": [],
   "source": [
    "start = time.time()\n",
    "theta,error_list = gradient_descent(X,y)\n",
    "end = time.time()"
   ]
  },
  {
   "cell_type": "code",
   "execution_count": 98,
   "id": "8166c726",
   "metadata": {},
   "outputs": [
    {
     "data": {
      "text/plain": [
       "0.04714536666870117"
      ]
     },
     "execution_count": 98,
     "metadata": {},
     "output_type": "execute_result"
    }
   ],
   "source": [
    "end-start\n",
    "# 1000000/600"
   ]
  },
  {
   "cell_type": "code",
   "execution_count": 99,
   "id": "c7c0c598",
   "metadata": {},
   "outputs": [
    {
     "data": {
      "text/plain": [
       "[<matplotlib.lines.Line2D at 0x7fcfe48352e0>]"
      ]
     },
     "execution_count": 99,
     "metadata": {},
     "output_type": "execute_result"
    },
    {
     "data": {
      "image/png": "[encoded data removed]",
      "text/plain": [
       "<Figure size 576x396 with 1 Axes>"
      ]
     },
     "metadata": {},
     "output_type": "display_data"
    }
   ],
   "source": [
    "plt.plot(error_list)"
   ]
  },
  {
   "cell_type": "code",
   "execution_count": null,
   "id": "b8c600c1",
   "metadata": {},
   "outputs": [],
   "source": []
  }
 ],
 "metadata": {
  "kernelspec": {
   "display_name": "Python 3",
   "language": "python",
   "name": "python3"
  },
  "language_info": {
   "codemirror_mode": {
    "name": "ipython",
    "version": 3
   },
   "file_extension": ".py",
   "mimetype": "text/x-python",
   "name": "python",
   "nbconvert_exporter": "python",
   "pygments_lexer": "ipython3",
   "version": "3.8.8"
  }
 },
 "nbformat": 4,
 "nbformat_minor": 5
}
