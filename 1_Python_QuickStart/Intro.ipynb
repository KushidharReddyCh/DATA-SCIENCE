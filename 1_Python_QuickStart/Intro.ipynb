{
 "cells": [
  {
   "cell_type": "markdown",
   "id": "f9913de9",
   "metadata": {},
   "source": [
    "## INPUT`"
   ]
  },
  {
   "cell_type": "code",
   "execution_count": 50,
   "id": "a57704b7",
   "metadata": {},
   "outputs": [
    {
     "name": "stdout",
     "output_type": "stream",
     "text": [
      "\n",
      "<class 'str'>\n"
     ]
    }
   ],
   "source": [
    "numbers = input()\n",
    "print(type(numbers))"
   ]
  },
  {
   "cell_type": "code",
   "execution_count": 51,
   "id": "6a81741f",
   "metadata": {},
   "outputs": [
    {
     "name": "stdout",
     "output_type": "stream",
     "text": [
      "\n"
     ]
    }
   ],
   "source": [
    "li = list(map(int,input().split()))\n",
    "# The map() function applies a given function to each item of an iterable\n",
    "# (list, tuple etc.) and returns an iterator."
   ]
  },
  {
   "cell_type": "code",
   "execution_count": 52,
   "id": "97ba11f6",
   "metadata": {},
   "outputs": [
    {
     "name": "stdout",
     "output_type": "stream",
     "text": [
      "\n"
     ]
    }
   ],
   "source": [
    "def hii(x):\n",
    "    x = int(x)\n",
    "    print(x)\n",
    "    return x**x\n",
    "li = map(hii,input().split())"
   ]
  },
  {
   "cell_type": "code",
   "execution_count": 55,
   "id": "98738f8a",
   "metadata": {},
   "outputs": [
    {
     "data": {
      "text/plain": [
       "[]"
      ]
     },
     "execution_count": 55,
     "metadata": {},
     "output_type": "execute_result"
    }
   ],
   "source": [
    "list(li)"
   ]
  },
  {
   "cell_type": "code",
   "execution_count": 60,
   "id": "69b62ccc",
   "metadata": {},
   "outputs": [
    {
     "name": "stdout",
     "output_type": "stream",
     "text": [
      "Reset css and font defaults in:\r\n",
      "/Users/kushidhar/.jupyter/custom &\r\n",
      "/Users/kushidhar/Library/Jupyter/nbextensions\r\n"
     ]
    }
   ],
   "source": [
    "# jupiter themes\n",
    "# !jt -l\n",
    "# !jt -t monokai\n",
    "!jt -r"
   ]
  },
  {
   "cell_type": "code",
   "execution_count": null,
   "id": "9c75e733",
   "metadata": {},
   "outputs": [],
   "source": []
  }
 ],
 "metadata": {
  "kernelspec": {
   "display_name": "Python 3",
   "language": "python",
   "name": "python3"
  },
  "language_info": {
   "codemirror_mode": {
    "name": "ipython",
    "version": 3
   },
   "file_extension": ".py",
   "mimetype": "text/x-python",
   "name": "python",
   "nbconvert_exporter": "python",
   "pygments_lexer": "ipython3",
   "version": "3.8.8"
  }
 },
 "nbformat": 4,
 "nbformat_minor": 5
}
