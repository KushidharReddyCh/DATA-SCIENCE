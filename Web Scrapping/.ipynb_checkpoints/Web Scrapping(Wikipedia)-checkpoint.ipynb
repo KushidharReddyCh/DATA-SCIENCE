{
 "cells": [
  {
   "cell_type": "code",
   "execution_count": 1,
   "id": "5e69def4",
   "metadata": {},
   "outputs": [],
   "source": [
    "# ML model with our own data >> # ML model with others data "
   ]
  },
  {
   "cell_type": "markdown",
   "id": "9ea992df",
   "metadata": {},
   "source": [
    "Beautiful Soup is a Python library that is used for web scraping purposes to pull the data out of HTML and XML files. It creates a parse tree from page source code that can be used to extract data in a hierarchical and more readable manner."
   ]
  },
  {
   "cell_type": "markdown",
   "id": "a9f7ffd6",
   "metadata": {},
   "source": [
    "# Data Scraping using Beuatiful Soup\n",
    "\n",
    "import Beuatiful Soup<br>\n",
    "Make a GET request to fetch page data<br>\n",
    "parse HTML<br>\n",
    "Filter relevant parts"
   ]
  },
  {
   "cell_type": "code",
   "execution_count": 2,
   "id": "8506ead8",
   "metadata": {},
   "outputs": [
    {
     "name": "stdout",
     "output_type": "stream",
     "text": [
      "Requirement already satisfied: bs4 in /Users/kushidhar/opt/anaconda3/lib/python3.8/site-packages (0.0.1)\n",
      "Requirement already satisfied: beautifulsoup4 in /Users/kushidhar/opt/anaconda3/lib/python3.8/site-packages (from bs4) (4.9.3)\n",
      "Requirement already satisfied: soupsieve>1.2 in /Users/kushidhar/opt/anaconda3/lib/python3.8/site-packages (from beautifulsoup4->bs4) (2.2.1)\n"
     ]
    }
   ],
   "source": [
    "!pip install bs4"
   ]
  },
  {
   "cell_type": "code",
   "execution_count": 3,
   "id": "52ca5d6a",
   "metadata": {},
   "outputs": [],
   "source": [
    "from urllib.request import urlopen"
   ]
  },
  {
   "cell_type": "code",
   "execution_count": 4,
   "id": "0b97353f",
   "metadata": {},
   "outputs": [],
   "source": [
    "android_url = \"https://en.wikipedia.org/wiki/Android_version_history\" #target url\n",
    "android_data = urlopen(android_url) #opening the connection\n",
    "android_html = android_data.read() # reading the data\n",
    "android_data.close() # closing the connection"
   ]
  },
  {
   "cell_type": "code",
   "execution_count": 5,
   "id": "b3ba4ccc",
   "metadata": {},
   "outputs": [],
   "source": [
    "# print(type(android_data))\n",
    "# Clinet ---URL--- Server\n",
    "# Server --- HTTP Response --- Client"
   ]
  },
  {
   "cell_type": "markdown",
   "id": "71e524fe",
   "metadata": {},
   "source": [
    "# 2.Parsing Data"
   ]
  },
  {
   "cell_type": "code",
   "execution_count": 6,
   "id": "009868b9",
   "metadata": {},
   "outputs": [],
   "source": [
    "from bs4 import BeautifulSoup as soup\n",
    "android_soup = soup(android_html,'html.parser') \n",
    "tables = android_soup.findAll('table',{'class':'wikitable'})"
   ]
  },
  {
   "cell_type": "code",
   "execution_count": 7,
   "id": "e403a2b5",
   "metadata": {},
   "outputs": [],
   "source": [
    "# print(len(tables))\n",
    "# print(android_soup)\n",
    "# print(type(android_soup))\n",
    "# android_soup.findAll('h1',{})"
   ]
  },
  {
   "cell_type": "markdown",
   "id": "eb0d932a",
   "metadata": {},
   "source": [
    "# 3. Extracting Useful information\n",
    "Remove undesired tags<br>\n",
    "Extract table header and data"
   ]
  },
  {
   "cell_type": "code",
   "execution_count": 8,
   "id": "09f4787c",
   "metadata": {},
   "outputs": [
    {
     "data": {
      "text/plain": [
       "['Internal codename',\n",
       " 'Version number(s)',\n",
       " 'Initial stablerelease date',\n",
       " 'Supported(security fixes)',\n",
       " 'API level']"
      ]
     },
     "execution_count": 8,
     "metadata": {},
     "output_type": "execute_result"
    }
   ],
   "source": [
    "headers = tables[0].findAll('th')\n",
    "column_titles = [ct.text[:-1] for ct in headers[1:-1]]\n",
    "column_titles"
   ]
  },
  {
   "cell_type": "code",
   "execution_count": 9,
   "id": "43bbb8a6",
   "metadata": {},
   "outputs": [],
   "source": [
    "table_rows = []\n",
    "row_data = tables[0].findAll('tr')\n",
    "for i in range(1,len(row_data)):\n",
    "    res = row_data[i].findAll('td')\n",
    "    data = [rd.text[:-1] for rd in res[1:-1]]\n",
    "    if len(data) == 5:\n",
    "        data[2] = data[2].split()[-1]\n",
    "        table_rows.append(data)"
   ]
  },
  {
   "cell_type": "markdown",
   "id": "08f4716d",
   "metadata": {},
   "source": [
    "## Writing & Reading CSV files\n",
    ".CSV stands for comma seperated file"
   ]
  },
  {
   "cell_type": "code",
   "execution_count": 10,
   "id": "135f5025",
   "metadata": {},
   "outputs": [],
   "source": [
    "filename = 'android_version_history.csv'\n",
    "with open(filename,'w',encoding = 'utf-8') as f:\n",
    "    #Write the header \n",
    "    header_string = ','.join(column_titles)\n",
    "    header_string += '\\n'\n",
    "    f.write(header_string)\n",
    "    for row in table_rows:\n",
    "        row_string = \"\"\n",
    "        row_string =\",\".join(row)\n",
    "        row_string += '\\n'\n",
    "        f.write(row_string)"
   ]
  },
  {
   "cell_type": "markdown",
   "id": "1274c735",
   "metadata": {},
   "source": [
    "## Data reading/cleaning"
   ]
  },
  {
   "cell_type": "code",
   "execution_count": 17,
   "id": "25b9fc9a",
   "metadata": {},
   "outputs": [],
   "source": [
    "import pandas as pd\n",
    "df = pd.read_csv(filename,index_col=None)"
   ]
  },
  {
   "cell_type": "code",
   "execution_count": 18,
   "id": "6064da1d",
   "metadata": {
    "scrolled": true
   },
   "outputs": [
    {
     "data": {
      "text/html": [
       "<div>\n",
       "<style scoped>\n",
       "    .dataframe tbody tr th:only-of-type {\n",
       "        vertical-align: middle;\n",
       "    }\n",
       "\n",
       "    .dataframe tbody tr th {\n",
       "        vertical-align: top;\n",
       "    }\n",
       "\n",
       "    .dataframe thead th {\n",
       "        text-align: right;\n",
       "    }\n",
       "</style>\n",
       "<table border=\"1\" class=\"dataframe\">\n",
       "  <thead>\n",
       "    <tr style=\"text-align: right;\">\n",
       "      <th></th>\n",
       "      <th>Internal codename</th>\n",
       "      <th>Version number(s)</th>\n",
       "      <th>Initial stablerelease date</th>\n",
       "      <th>Supported(security fixes)</th>\n",
       "      <th>API level</th>\n",
       "    </tr>\n",
       "  </thead>\n",
       "  <tbody>\n",
       "    <tr>\n",
       "      <th>0</th>\n",
       "      <td>NaN</td>\n",
       "      <td>1.0</td>\n",
       "      <td>2008</td>\n",
       "      <td>No</td>\n",
       "      <td>1</td>\n",
       "    </tr>\n",
       "    <tr>\n",
       "      <th>1</th>\n",
       "      <td>Petit Four</td>\n",
       "      <td>1.1</td>\n",
       "      <td>2009</td>\n",
       "      <td>No</td>\n",
       "      <td>2</td>\n",
       "    </tr>\n",
       "    <tr>\n",
       "      <th>2</th>\n",
       "      <td>Cupcake</td>\n",
       "      <td>1.5</td>\n",
       "      <td>2009</td>\n",
       "      <td>No</td>\n",
       "      <td>3</td>\n",
       "    </tr>\n",
       "    <tr>\n",
       "      <th>3</th>\n",
       "      <td>Donut</td>\n",
       "      <td>1.6</td>\n",
       "      <td>2009</td>\n",
       "      <td>No</td>\n",
       "      <td>4</td>\n",
       "    </tr>\n",
       "    <tr>\n",
       "      <th>4</th>\n",
       "      <td>Eclair</td>\n",
       "      <td>2.0</td>\n",
       "      <td>2009</td>\n",
       "      <td>No</td>\n",
       "      <td>5</td>\n",
       "    </tr>\n",
       "    <tr>\n",
       "      <th>5</th>\n",
       "      <td>Froyo</td>\n",
       "      <td>2.2 – 2.2.3</td>\n",
       "      <td>2010</td>\n",
       "      <td>No</td>\n",
       "      <td>8</td>\n",
       "    </tr>\n",
       "    <tr>\n",
       "      <th>6</th>\n",
       "      <td>Gingerbread</td>\n",
       "      <td>2.3 – 2.3.2</td>\n",
       "      <td>2010</td>\n",
       "      <td>No</td>\n",
       "      <td>9</td>\n",
       "    </tr>\n",
       "    <tr>\n",
       "      <th>7</th>\n",
       "      <td>Honeycomb</td>\n",
       "      <td>3.0</td>\n",
       "      <td>2011</td>\n",
       "      <td>No</td>\n",
       "      <td>11</td>\n",
       "    </tr>\n",
       "    <tr>\n",
       "      <th>8</th>\n",
       "      <td>Ice Cream Sandwich</td>\n",
       "      <td>4.0 – 4.0.2</td>\n",
       "      <td>2011</td>\n",
       "      <td>No</td>\n",
       "      <td>14</td>\n",
       "    </tr>\n",
       "    <tr>\n",
       "      <th>9</th>\n",
       "      <td>Jelly Bean</td>\n",
       "      <td>4.1 – 4.1.2</td>\n",
       "      <td>2012</td>\n",
       "      <td>No</td>\n",
       "      <td>16</td>\n",
       "    </tr>\n",
       "    <tr>\n",
       "      <th>10</th>\n",
       "      <td>Key Lime Pie</td>\n",
       "      <td>4.4 – 4.4.4</td>\n",
       "      <td>2013</td>\n",
       "      <td>No</td>\n",
       "      <td>19</td>\n",
       "    </tr>\n",
       "    <tr>\n",
       "      <th>11</th>\n",
       "      <td>Lemon Meringue Pie</td>\n",
       "      <td>5.0 – 5.0.2</td>\n",
       "      <td>2014</td>\n",
       "      <td>No</td>\n",
       "      <td>21</td>\n",
       "    </tr>\n",
       "    <tr>\n",
       "      <th>12</th>\n",
       "      <td>Macadamia Nut Cookie</td>\n",
       "      <td>6.0 – 6.0.1</td>\n",
       "      <td>2015</td>\n",
       "      <td>No</td>\n",
       "      <td>23</td>\n",
       "    </tr>\n",
       "    <tr>\n",
       "      <th>13</th>\n",
       "      <td>New York Cheesecake</td>\n",
       "      <td>7.0</td>\n",
       "      <td>2016</td>\n",
       "      <td>No</td>\n",
       "      <td>24</td>\n",
       "    </tr>\n",
       "    <tr>\n",
       "      <th>14</th>\n",
       "      <td>Oatmeal Cookie</td>\n",
       "      <td>8.0</td>\n",
       "      <td>2017</td>\n",
       "      <td>No</td>\n",
       "      <td>26</td>\n",
       "    </tr>\n",
       "    <tr>\n",
       "      <th>15</th>\n",
       "      <td>NaN</td>\n",
       "      <td>9</td>\n",
       "      <td>2018</td>\n",
       "      <td>Yes</td>\n",
       "      <td>28</td>\n",
       "    </tr>\n",
       "    <tr>\n",
       "      <th>16</th>\n",
       "      <td>Quince Tart</td>\n",
       "      <td>10</td>\n",
       "      <td>2019</td>\n",
       "      <td>Yes</td>\n",
       "      <td>29</td>\n",
       "    </tr>\n",
       "    <tr>\n",
       "      <th>17</th>\n",
       "      <td>Red Velvet Cake</td>\n",
       "      <td>11</td>\n",
       "      <td>2020</td>\n",
       "      <td>Yes</td>\n",
       "      <td>30</td>\n",
       "    </tr>\n",
       "    <tr>\n",
       "      <th>18</th>\n",
       "      <td>Snow Cone</td>\n",
       "      <td>12</td>\n",
       "      <td>2021</td>\n",
       "      <td>Yes</td>\n",
       "      <td>31</td>\n",
       "    </tr>\n",
       "    <tr>\n",
       "      <th>19</th>\n",
       "      <td>Un­known</td>\n",
       "      <td>Un­known</td>\n",
       "      <td>2022</td>\n",
       "      <td>Presupported</td>\n",
       "      <td>32</td>\n",
       "    </tr>\n",
       "  </tbody>\n",
       "</table>\n",
       "</div>"
      ],
      "text/plain": [
       "       Internal codename Version number(s)  Initial stablerelease date  \\\n",
       "0                    NaN               1.0                        2008   \n",
       "1             Petit Four               1.1                        2009   \n",
       "2                Cupcake               1.5                        2009   \n",
       "3                  Donut               1.6                        2009   \n",
       "4                 Eclair               2.0                        2009   \n",
       "5                  Froyo       2.2 – 2.2.3                        2010   \n",
       "6            Gingerbread       2.3 – 2.3.2                        2010   \n",
       "7              Honeycomb               3.0                        2011   \n",
       "8     Ice Cream Sandwich       4.0 – 4.0.2                        2011   \n",
       "9             Jelly Bean       4.1 – 4.1.2                        2012   \n",
       "10          Key Lime Pie       4.4 – 4.4.4                        2013   \n",
       "11    Lemon Meringue Pie       5.0 – 5.0.2                        2014   \n",
       "12  Macadamia Nut Cookie       6.0 – 6.0.1                        2015   \n",
       "13   New York Cheesecake               7.0                        2016   \n",
       "14        Oatmeal Cookie               8.0                        2017   \n",
       "15                   NaN                 9                        2018   \n",
       "16           Quince Tart                10                        2019   \n",
       "17       Red Velvet Cake                11                        2020   \n",
       "18             Snow Cone                12                        2021   \n",
       "19              Un­known          Un­known                        2022   \n",
       "\n",
       "   Supported(security fixes)  API level  \n",
       "0                         No          1  \n",
       "1                         No          2  \n",
       "2                         No          3  \n",
       "3                         No          4  \n",
       "4                         No          5  \n",
       "5                         No          8  \n",
       "6                         No          9  \n",
       "7                         No         11  \n",
       "8                         No         14  \n",
       "9                         No         16  \n",
       "10                        No         19  \n",
       "11                        No         21  \n",
       "12                        No         23  \n",
       "13                        No         24  \n",
       "14                        No         26  \n",
       "15                       Yes         28  \n",
       "16                       Yes         29  \n",
       "17                       Yes         30  \n",
       "18                       Yes         31  \n",
       "19              Presupported         32  "
      ]
     },
     "execution_count": 18,
     "metadata": {},
     "output_type": "execute_result"
    }
   ],
   "source": [
    "df"
   ]
  },
  {
   "cell_type": "markdown",
   "id": "16303624",
   "metadata": {},
   "source": [
    "# Scraping local files"
   ]
  },
  {
   "cell_type": "code",
   "execution_count": 13,
   "id": "0ecf8ef5",
   "metadata": {},
   "outputs": [],
   "source": [
    "with open('android.html',encoding='utf-8') as f:\n",
    "    page_soup = soup(f,'html.parser')"
   ]
  },
  {
   "cell_type": "code",
   "execution_count": 14,
   "id": "cfe42967",
   "metadata": {},
   "outputs": [
    {
     "data": {
      "text/plain": [
       "[<h1 class=\"firstHeading\" id=\"firstHeading\">Android version history</h1>]"
      ]
     },
     "execution_count": 14,
     "metadata": {},
     "output_type": "execute_result"
    }
   ],
   "source": [
    "page_soup.findAll('h1')"
   ]
  },
  {
   "cell_type": "code",
   "execution_count": 15,
   "id": "3599ce7a",
   "metadata": {},
   "outputs": [],
   "source": [
    "# !jt -r"
   ]
  },
  {
   "cell_type": "code",
   "execution_count": null,
   "id": "645f4750",
   "metadata": {},
   "outputs": [],
   "source": []
  },
  {
   "cell_type": "code",
   "execution_count": null,
   "id": "32c4b5e8",
   "metadata": {},
   "outputs": [],
   "source": []
  }
 ],
 "metadata": {
  "kernelspec": {
   "display_name": "Python 3",
   "language": "python",
   "name": "python3"
  },
  "language_info": {
   "codemirror_mode": {
    "name": "ipython",
    "version": 3
   },
   "file_extension": ".py",
   "mimetype": "text/x-python",
   "name": "python",
   "nbconvert_exporter": "python",
   "pygments_lexer": "ipython3",
   "version": "3.8.8"
  }
 },
 "nbformat": 4,
 "nbformat_minor": 5
}
